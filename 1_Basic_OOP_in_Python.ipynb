{
  "nbformat": 4,
  "nbformat_minor": 0,
  "metadata": {
    "colab": {
      "provenance": [],
      "authorship_tag": "ABX9TyPRvmuObalUGa1WyM3gIrsx",
      "include_colab_link": true
    },
    "kernelspec": {
      "name": "python3",
      "display_name": "Python 3"
    },
    "language_info": {
      "name": "python"
    }
  },
  "cells": [
    {
      "cell_type": "markdown",
      "metadata": {
        "id": "view-in-github",
        "colab_type": "text"
      },
      "source": [
        "<a href=\"https://colab.research.google.com/github/thisisAranya/Basic-Code-Library/blob/main/1_Basic_OOP_in_Python.ipynb\" target=\"_parent\"><img src=\"https://colab.research.google.com/assets/colab-badge.svg\" alt=\"Open In Colab\"/></a>"
      ]
    },
    {
      "cell_type": "markdown",
      "source": [
        "## Object Oriented Programming\n",
        "\n",
        "**Properties and Behaviors** -- most important thing of OOP\n",
        "\n",
        "Four elements of OOP:\n",
        "1. Encapsulation\n",
        "2. Inheritence\n",
        "3. Abstraction\n",
        "4. Polymorphism"
      ],
      "metadata": {
        "id": "G7agJ7R2MKGS"
      }
    },
    {
      "cell_type": "code",
      "execution_count": 1,
      "metadata": {
        "id": "fPggL2d9L5dO"
      },
      "outputs": [],
      "source": [
        "class Employee:\n",
        "    def __init__(self, name, age): # __init__() to declare which attributes each instance of the class should have\n",
        "        self.name =  name\n",
        "        self.age = age"
      ]
    },
    {
      "cell_type": "markdown",
      "source": [
        "### Classes vs Instances\n",
        "Classes allow you to create user-defined data structures. They define functions called methods, which describe the behaviors and actions that an object created from the class can perform using its data.\n",
        "\n",
        "While the class is the blueprint, an instance is an object built from that class and contains actual data."
      ],
      "metadata": {
        "id": "kusa1H1uNJ7I"
      }
    },
    {
      "cell_type": "markdown",
      "source": [
        "You define the properties that all Dog objects must have in a method called `__init__()`.\n",
        "\n",
        "the first parameter will always be a variable called self. When you create a new class instance, then Python automatically passes the instance to the self parameter in `__init__()` so that Python can define the new attributes on the object."
      ],
      "metadata": {
        "id": "h-hdbk1GNqHZ"
      }
    },
    {
      "cell_type": "code",
      "source": [
        "class Dog:\n",
        "    def __init__(self, name, age):\n",
        "        self.name = name\n",
        "        self.age = age"
      ],
      "metadata": {
        "id": "Hr77LqrCMzcE"
      },
      "execution_count": 2,
      "outputs": []
    },
    {
      "cell_type": "markdown",
      "source": [
        "Attributes created in ``__init__()`` are called instance attributes. An instance attribute’s value is specific to a particular instance of the class."
      ],
      "metadata": {
        "id": "QEoNSBV0n8sm"
      }
    },
    {
      "cell_type": "code",
      "source": [
        "class Dog:\n",
        "    species = \"Canis familiaris\" # class attribute\n",
        "\n",
        "    def __init__(self, name, age):\n",
        "        self.name = name\n",
        "        self.age = age"
      ],
      "metadata": {
        "id": "wZQSkLCLOsT3"
      },
      "execution_count": 3,
      "outputs": []
    },
    {
      "cell_type": "markdown",
      "source": [
        "Use class attributes to define properties that should have the same value for every class instance."
      ],
      "metadata": {
        "id": "w6d_AEChoRl7"
      }
    },
    {
      "cell_type": "markdown",
      "source": [
        "New instances get allocated in new addresses"
      ],
      "metadata": {
        "id": "vBu2shNHokWC"
      }
    },
    {
      "cell_type": "code",
      "source": [
        "a = Dog('A', 'B')\n",
        "b = Dog('A', 'B')\n",
        "a == b # It's False"
      ],
      "metadata": {
        "colab": {
          "base_uri": "https://localhost:8080/"
        },
        "id": "xXeYfnGloSxe",
        "outputId": "2a2b1fad-227d-4385-b0ac-d6bc6c64e085"
      },
      "execution_count": 18,
      "outputs": [
        {
          "output_type": "execute_result",
          "data": {
            "text/plain": [
              "False"
            ]
          },
          "metadata": {},
          "execution_count": 18
        }
      ]
    },
    {
      "cell_type": "markdown",
      "source": [
        "When you instantiate the Dog class, Python creates a new instance of Dog and passes it to the first parameter of `__init__()`. This essentially removes the self parameter, so you only need to worry about the name and age parameters."
      ],
      "metadata": {
        "id": "x4eCtoTOpOP8"
      }
    },
    {
      "cell_type": "markdown",
      "source": [
        "### Instance Methods\n",
        "\n",
        "Instance methods are functions that you define inside a class and can only call on an instance of that class. Just like .__init__(), an instance method always takes self as its first parameter.\n",
        "\n",
        "Open a new editor window in IDLE and type in the following Dog class:"
      ],
      "metadata": {
        "id": "4W-LnP2TqxTg"
      }
    },
    {
      "cell_type": "code",
      "source": [
        "class Dog:\n",
        "    species = \"Canis familiaris\"\n",
        "\n",
        "    def __init__(self, name, age):\n",
        "        self.name = name\n",
        "        self.age = age\n",
        "\n",
        "    # Instance method\n",
        "    def description(self):\n",
        "        return f\"{self.name} is {self.age} years old\"\n",
        "\n",
        "    # Another instance method\n",
        "    def speak(self, sound):\n",
        "        return f\"{self.name} says {sound}\""
      ],
      "metadata": {
        "id": "wY0HhFDNpNhG"
      },
      "execution_count": 5,
      "outputs": []
    },
    {
      "cell_type": "code",
      "source": [
        "miles = Dog(\"Miles\", 4)\n",
        "miles.description()"
      ],
      "metadata": {
        "colab": {
          "base_uri": "https://localhost:8080/",
          "height": 36
        },
        "id": "ZhU7C1Fosrpp",
        "outputId": "8ada7264-aafe-4e47-88ee-be679bea2bbd"
      },
      "execution_count": 8,
      "outputs": [
        {
          "output_type": "execute_result",
          "data": {
            "text/plain": [
              "'Miles is 4 years old'"
            ],
            "application/vnd.google.colaboratory.intrinsic+json": {
              "type": "string"
            }
          },
          "metadata": {},
          "execution_count": 8
        }
      ]
    },
    {
      "cell_type": "code",
      "source": [
        "miles.speak(\"Bow Wow\")"
      ],
      "metadata": {
        "colab": {
          "base_uri": "https://localhost:8080/",
          "height": 36
        },
        "id": "GASRRe1isw8W",
        "outputId": "e792179f-d627-4143-d133-d43dc6a97e66"
      },
      "execution_count": 9,
      "outputs": [
        {
          "output_type": "execute_result",
          "data": {
            "text/plain": [
              "'Miles says Bow Wow'"
            ],
            "application/vnd.google.colaboratory.intrinsic+json": {
              "type": "string"
            }
          },
          "metadata": {},
          "execution_count": 9
        }
      ]
    },
    {
      "cell_type": "code",
      "source": [
        "print(miles)"
      ],
      "metadata": {
        "colab": {
          "base_uri": "https://localhost:8080/"
        },
        "id": "Bvba9MGYs3zQ",
        "outputId": "d7391a93-8778-4dc2-eb8b-4c33b0ed02b9"
      },
      "execution_count": 12,
      "outputs": [
        {
          "output_type": "stream",
          "name": "stdout",
          "text": [
            "<__main__.Dog object at 0x7e71e818e990>\n"
          ]
        }
      ]
    },
    {
      "cell_type": "markdown",
      "source": [
        "You can change what gets printed by defining a special instance method called `__str__()`."
      ],
      "metadata": {
        "id": "olWdp18-r_97"
      }
    },
    {
      "cell_type": "code",
      "source": [
        "class Dog:\n",
        "    species = \"Canis familiaris\"\n",
        "\n",
        "    def __init__(self, name, age):\n",
        "        self.name = name\n",
        "        self.age = age\n",
        "\n",
        "    # Instance method\n",
        "    def description(self):\n",
        "        return f\"{self.name} is {self.age} years old\"\n",
        "\n",
        "    # Another instance method\n",
        "    def speak(self, sound):\n",
        "        return f\"{self.name} says {sound}\"\n",
        "\n",
        "\n",
        "    # Special Method for printing object\n",
        "    def __str__(self):\n",
        "        return f\"{self.name} is {self.age} years old\""
      ],
      "metadata": {
        "id": "_NP-UwyJoxmq"
      },
      "execution_count": 14,
      "outputs": []
    },
    {
      "cell_type": "code",
      "source": [
        "miles = Dog(\"Miles\", 4)\n",
        "print(miles)"
      ],
      "metadata": {
        "colab": {
          "base_uri": "https://localhost:8080/"
        },
        "id": "249HHOkYtLC2",
        "outputId": "b5d6ef3f-e3cb-4335-e903-2a8cdffba97c"
      },
      "execution_count": 16,
      "outputs": [
        {
          "output_type": "stream",
          "name": "stdout",
          "text": [
            "Miles is 4 years old\n"
          ]
        }
      ]
    },
    {
      "cell_type": "markdown",
      "source": [
        "Methods like `__init__()` and `__str__()` are called dunder methods because they begin and end with double underscores."
      ],
      "metadata": {
        "id": "tlv87If5tSmS"
      }
    },
    {
      "cell_type": "markdown",
      "source": [
        "### Inheritance\n",
        "\n",
        "Inheritance is the process by which one class takes on the attributes and methods of another. Newly formed classes are called ***child*** classes, and the classes that you derive child classes from are called ***parent*** classes."
      ],
      "metadata": {
        "id": "HnI7g_pSt-FP"
      }
    },
    {
      "cell_type": "markdown",
      "source": [
        "What if you want to determine if miles is also an instance of the Dog class? You can do this with the built-in isinstance():\n",
        "\n"
      ],
      "metadata": {
        "id": "aoTXhMddujcD"
      }
    },
    {
      "cell_type": "code",
      "source": [
        "isinstance(miles, Dog)"
      ],
      "metadata": {
        "colab": {
          "base_uri": "https://localhost:8080/"
        },
        "id": "W0gbUsitsYqp",
        "outputId": "88164d60-0229-4381-f7ca-5732b4cb7aea"
      },
      "execution_count": 19,
      "outputs": [
        {
          "output_type": "execute_result",
          "data": {
            "text/plain": [
              "True"
            ]
          },
          "metadata": {},
          "execution_count": 19
        }
      ]
    }
  ]
}